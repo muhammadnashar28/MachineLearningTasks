{
  "metadata": {
    "kernelspec": {
      "language": "python",
      "display_name": "Python 3",
      "name": "python3"
    },
    "language_info": {
      "pygments_lexer": "ipython3",
      "nbconvert_exporter": "python",
      "version": "3.6.4",
      "file_extension": ".py",
      "codemirror_mode": {
        "name": "ipython",
        "version": 3
      },
      "name": "python",
      "mimetype": "text/x-python"
    },
    "colab": {
      "provenance": [],
      "include_colab_link": true
    }
  },
  "nbformat_minor": 0,
  "nbformat": 4,
  "cells": [
    {
      "cell_type": "markdown",
      "metadata": {
        "id": "view-in-github",
        "colab_type": "text"
      },
      "source": [
        "<a href=\"https://colab.research.google.com/github/muhammadnashar28/MachineLearningTasks/blob/main/Decision_Tree.ipynb\" target=\"_parent\"><img src=\"https://colab.research.google.com/assets/colab-badge.svg\" alt=\"Open In Colab\"/></a>"
      ]
    },
    {
      "cell_type": "markdown",
      "source": [
        "**This notebook is an exercise in the [Introduction to Machine Learning](https://www.kaggle.com/learn/intro-to-machine-learning) course.  You can reference the tutorial at [this link](https://www.kaggle.com/dansbecker/your-first-machine-learning-model).**\n",
        "\n",
        "---\n"
      ],
      "metadata": {
        "id": "h3RtJwbF3K_L"
      }
    },
    {
      "cell_type": "markdown",
      "source": [
        "Nama: Muh Nashar\n",
        "\n",
        "NIM: 1103194122\n",
        "\n",
        "Kelas: TK44G4"
      ],
      "metadata": {
        "id": "ZqmHgSJL3K_M"
      }
    },
    {
      "cell_type": "markdown",
      "source": [
        "## Recap\n",
        "So far, you have loaded your data and reviewed it with the following code. Run this cell to set up your coding environment where the previous step left off."
      ],
      "metadata": {
        "id": "-WHawp0g3K_M"
      }
    },
    {
      "cell_type": "code",
      "source": [
        "# Code you have previously used to load data\n",
        "import pandas as pd\n",
        "\n",
        "# Path of the file to read\n",
        "iowa_file_path = '../input/home-data-for-ml-course/train.csv'\n",
        "\n",
        "home_data = pd.read_csv(iowa_file_path)\n",
        "\n",
        "# Set up code checking\n",
        "from learntools.core import binder\n",
        "binder.bind(globals())\n",
        "from learntools.machine_learning.ex3 import *\n",
        "\n",
        "print(\"Setup Complete\")"
      ],
      "metadata": {
        "execution": {
          "iopub.status.busy": "2023-09-29T11:41:13.116219Z",
          "iopub.execute_input": "2023-09-29T11:41:13.116577Z",
          "iopub.status.idle": "2023-09-29T11:41:14.561069Z",
          "shell.execute_reply.started": "2023-09-29T11:41:13.116550Z",
          "shell.execute_reply": "2023-09-29T11:41:14.560284Z"
        },
        "trusted": true,
        "id": "9L5OQ-d33K_N"
      },
      "execution_count": null,
      "outputs": []
    },
    {
      "cell_type": "markdown",
      "source": [
        "# Exercises\n",
        "\n",
        "## Step 1: Specify Prediction Target\n",
        "Select the target variable, which corresponds to the sales price. Save this to a new variable called `y`. You'll need to print a list of the columns to find the name of the column you need.\n"
      ],
      "metadata": {
        "id": "27UdJEGp3K_N"
      }
    },
    {
      "cell_type": "code",
      "source": [
        "# print the list of columns in the dataset to find the name of the prediction target\n",
        "print(home_data.columns)"
      ],
      "metadata": {
        "execution": {
          "iopub.status.busy": "2023-09-29T11:41:18.670280Z",
          "iopub.execute_input": "2023-09-29T11:41:18.671709Z",
          "iopub.status.idle": "2023-09-29T11:41:18.679458Z",
          "shell.execute_reply.started": "2023-09-29T11:41:18.671651Z",
          "shell.execute_reply": "2023-09-29T11:41:18.678220Z"
        },
        "trusted": true,
        "id": "tE3Yqi8s3K_N"
      },
      "execution_count": null,
      "outputs": []
    },
    {
      "cell_type": "code",
      "source": [
        "y = home_data.SalePrice\n",
        "# Check your answer\n",
        "step_1.check()"
      ],
      "metadata": {
        "execution": {
          "iopub.status.busy": "2023-09-29T11:41:21.129714Z",
          "iopub.execute_input": "2023-09-29T11:41:21.130091Z",
          "iopub.status.idle": "2023-09-29T11:41:21.145668Z",
          "shell.execute_reply.started": "2023-09-29T11:41:21.130063Z",
          "shell.execute_reply": "2023-09-29T11:41:21.144609Z"
        },
        "trusted": true,
        "id": "FuFYqszK3K_O"
      },
      "execution_count": null,
      "outputs": []
    },
    {
      "cell_type": "code",
      "source": [
        "# The lines below will show you a hint or the solution.\n",
        "step_1.hint()\n",
        "step_1.solution()"
      ],
      "metadata": {
        "execution": {
          "iopub.status.busy": "2023-09-29T11:40:41.713994Z",
          "iopub.status.idle": "2023-09-29T11:40:41.714333Z",
          "shell.execute_reply.started": "2023-09-29T11:40:41.714177Z",
          "shell.execute_reply": "2023-09-29T11:40:41.714193Z"
        },
        "trusted": true,
        "id": "jnYJxoVU3K_O"
      },
      "execution_count": null,
      "outputs": []
    },
    {
      "cell_type": "markdown",
      "source": [
        "## Step 2: Create X\n",
        "Now you will create a DataFrame called `X` holding the predictive features.\n",
        "\n",
        "Since you want only some columns from the original data, you'll first create a list with the names of the columns you want in `X`.\n",
        "\n",
        "You'll use just the following columns in the list (you can copy and paste the whole list to save some typing, though you'll still need to add quotes):\n",
        "  * LotArea\n",
        "  * YearBuilt\n",
        "  * 1stFlrSF\n",
        "  * 2ndFlrSF\n",
        "  * FullBath\n",
        "  * BedroomAbvGr\n",
        "  * TotRmsAbvGrd\n",
        "\n",
        "After you've created that list of features, use it to create the DataFrame that you'll use to fit the model."
      ],
      "metadata": {
        "id": "O_ZbhWJT3K_O"
      }
    },
    {
      "cell_type": "code",
      "source": [
        "# Create the list of features below\n",
        "feature_names = [\"LotArea\", \"YearBuilt\", \"1stFlrSF\", \"2ndFlrSF\",\n",
        "                      \"FullBath\", \"BedroomAbvGr\", \"TotRmsAbvGrd\"]\n",
        "\n",
        "\n",
        "# Select data corresponding to features in feature_names\n",
        "X = home_data[feature_names]\n",
        "\n",
        "# Check your answer\n",
        "step_2.check()"
      ],
      "metadata": {
        "execution": {
          "iopub.status.busy": "2023-09-29T10:47:00.327560Z",
          "iopub.execute_input": "2023-09-29T10:47:00.328036Z",
          "iopub.status.idle": "2023-09-29T10:47:00.340893Z",
          "shell.execute_reply.started": "2023-09-29T10:47:00.328002Z",
          "shell.execute_reply": "2023-09-29T10:47:00.339696Z"
        },
        "trusted": true,
        "id": "4jOeHvrz3K_O"
      },
      "execution_count": null,
      "outputs": []
    },
    {
      "cell_type": "code",
      "source": [
        "step_2.hint()\n",
        "step_2.solution()"
      ],
      "metadata": {
        "execution": {
          "iopub.status.busy": "2023-09-29T10:36:28.045430Z",
          "iopub.execute_input": "2023-09-29T10:36:28.045939Z",
          "iopub.status.idle": "2023-09-29T10:36:28.060740Z",
          "shell.execute_reply.started": "2023-09-29T10:36:28.045905Z",
          "shell.execute_reply": "2023-09-29T10:36:28.059292Z"
        },
        "trusted": true,
        "id": "3z-92ncq3K_O"
      },
      "execution_count": null,
      "outputs": []
    },
    {
      "cell_type": "markdown",
      "source": [
        "## Review Data\n",
        "Before building a model, take a quick look at **X** to verify it looks sensible"
      ],
      "metadata": {
        "id": "lvAfXHKy3K_O"
      }
    },
    {
      "cell_type": "code",
      "source": [
        "# Review data\n",
        "# print description or statistics from X\n",
        "print(X)\n",
        "\n",
        "# print the top few lines\n",
        "print(y)"
      ],
      "metadata": {
        "execution": {
          "iopub.status.busy": "2023-09-29T10:47:03.639594Z",
          "iopub.execute_input": "2023-09-29T10:47:03.639985Z",
          "iopub.status.idle": "2023-09-29T10:47:03.651744Z",
          "shell.execute_reply.started": "2023-09-29T10:47:03.639955Z",
          "shell.execute_reply": "2023-09-29T10:47:03.650629Z"
        },
        "trusted": true,
        "id": "E11SSyN83K_P"
      },
      "execution_count": null,
      "outputs": []
    },
    {
      "cell_type": "markdown",
      "source": [
        "## Step 3: Specify and Fit Model\n",
        "Create a `DecisionTreeRegressor` and save it iowa_model. Ensure you've done the relevant import from sklearn to run this command.\n",
        "\n",
        "Then fit the model you just created using the data in `X` and `y` that you saved above."
      ],
      "metadata": {
        "id": "seyU8z8b3K_P"
      }
    },
    {
      "cell_type": "code",
      "source": [
        "from sklearn.tree import DecisionTreeRegressor\n",
        "#specify the model.\n",
        "#For model reproducibility, set a numeric value for random_state when specifying the model\n",
        "iowa_model = DecisionTreeRegressor(random_state=1)\n",
        "\n",
        "# Fit the model\n",
        "iowa_model.fit(X, y)\n",
        "\n",
        "# Check your answer\n",
        "step_3.check()"
      ],
      "metadata": {
        "execution": {
          "iopub.status.busy": "2023-09-29T10:47:06.625360Z",
          "iopub.execute_input": "2023-09-29T10:47:06.625796Z",
          "iopub.status.idle": "2023-09-29T10:47:06.647070Z",
          "shell.execute_reply.started": "2023-09-29T10:47:06.625765Z",
          "shell.execute_reply": "2023-09-29T10:47:06.646056Z"
        },
        "trusted": true,
        "id": "EZs3LCEE3K_P"
      },
      "execution_count": null,
      "outputs": []
    },
    {
      "cell_type": "code",
      "source": [
        "step_3.hint()\n",
        "step_3.solution()"
      ],
      "metadata": {
        "execution": {
          "iopub.status.busy": "2023-09-29T10:37:26.967765Z",
          "iopub.execute_input": "2023-09-29T10:37:26.968115Z",
          "iopub.status.idle": "2023-09-29T10:37:26.982849Z",
          "shell.execute_reply.started": "2023-09-29T10:37:26.968078Z",
          "shell.execute_reply": "2023-09-29T10:37:26.981693Z"
        },
        "trusted": true,
        "id": "ujKVFAni3K_P"
      },
      "execution_count": null,
      "outputs": []
    },
    {
      "cell_type": "markdown",
      "source": [
        "## Step 4: Make Predictions\n",
        "Make predictions with the model's `predict` command using `X` as the data. Save the results to a variable called `predictions`."
      ],
      "metadata": {
        "id": "UgX_PfaQ3K_P"
      }
    },
    {
      "cell_type": "code",
      "source": [
        "predictions = iowa_model.predict(X)\n",
        "print(predictions)\n",
        "\n",
        "# Check your answer\n",
        "step_4.check()"
      ],
      "metadata": {
        "execution": {
          "iopub.status.busy": "2023-09-29T10:47:09.293500Z",
          "iopub.execute_input": "2023-09-29T10:47:09.293892Z",
          "iopub.status.idle": "2023-09-29T10:47:09.309820Z",
          "shell.execute_reply.started": "2023-09-29T10:47:09.293865Z",
          "shell.execute_reply": "2023-09-29T10:47:09.308977Z"
        },
        "trusted": true,
        "id": "MaV6yMlm3K_P"
      },
      "execution_count": null,
      "outputs": []
    },
    {
      "cell_type": "code",
      "source": [
        "step_4.hint()\n",
        "step_4.solution()"
      ],
      "metadata": {
        "execution": {
          "iopub.status.busy": "2023-09-29T10:39:42.635109Z",
          "iopub.execute_input": "2023-09-29T10:39:42.636500Z",
          "iopub.status.idle": "2023-09-29T10:39:42.650752Z",
          "shell.execute_reply.started": "2023-09-29T10:39:42.636460Z",
          "shell.execute_reply": "2023-09-29T10:39:42.649484Z"
        },
        "trusted": true,
        "id": "88AeyOx83K_P"
      },
      "execution_count": null,
      "outputs": []
    },
    {
      "cell_type": "markdown",
      "source": [
        "## Think About Your Results\n",
        "\n",
        "Use the `head` method to compare the top few predictions to the actual home values (in `y`) for those same homes. Anything surprising?\n"
      ],
      "metadata": {
        "id": "6zRGP7-V3K_P"
      }
    },
    {
      "cell_type": "code",
      "source": [
        "# You can write code in this cell\n"
      ],
      "metadata": {
        "id": "niT57cNk3K_Q"
      },
      "execution_count": null,
      "outputs": []
    },
    {
      "cell_type": "markdown",
      "source": [
        "It's natural to ask how accurate the model's predictions will be and how you can improve that. That will be you're next step.\n",
        "\n",
        "# Keep Going\n",
        "\n",
        "You are ready for **[Model Validation](https://www.kaggle.com/dansbecker/model-validation).**\n"
      ],
      "metadata": {
        "id": "OCSM-iWn3K_Q"
      }
    },
    {
      "cell_type": "markdown",
      "source": [
        "---\n",
        "\n",
        "\n",
        "\n",
        "\n",
        "*Have questions or comments? Visit the [course discussion forum](https://www.kaggle.com/learn/intro-to-machine-learning/discussion) to chat with other learners.*"
      ],
      "metadata": {
        "id": "xvZlB84U3K_Q"
      }
    }
  ]
}